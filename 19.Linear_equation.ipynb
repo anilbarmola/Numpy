{
 "cells": [
  {
   "cell_type": "code",
   "execution_count": 5,
   "metadata": {},
   "outputs": [],
   "source": [
    "#SOLVE linear Equation by Numpy\n",
    "#2X+Y=8\n",
    "#X+2Y=7\n",
    "#SOLVE the above liner equaction by Numpy"
   ]
  },
  {
   "cell_type": "code",
   "execution_count": 4,
   "metadata": {},
   "outputs": [
    {
     "name": "stdout",
     "output_type": "stream",
     "text": [
      "vale of x and y is : [3. 2.]\n"
     ]
    }
   ],
   "source": [
    "import numpy as np\n",
    "a=np.array([[2,1],[1,2]])\n",
    "b=np.array([8,7])\n",
    "c=np.linalg.solve(a,b)\n",
    "print(\"vale of x and y is :\",c)"
   ]
  },
  {
   "cell_type": "code",
   "execution_count": 1,
   "metadata": {},
   "outputs": [
    {
     "name": "stdout",
     "output_type": "stream",
     "text": [
      "vale of x ,y and z is : [ 0. -4.  3.]\n"
     ]
    }
   ],
   "source": [
    "#ex:2\n",
    "import numpy as np\n",
    "a=np.array([[2,1,4],[1,2,5],[1,2,4]])\n",
    "b=np.array([8,7,4])\n",
    "c=np.linalg.solve(a,b)\n",
    "print(\"vale of x ,y and z is :\",c)"
   ]
  },
  {
   "cell_type": "code",
   "execution_count": null,
   "metadata": {},
   "outputs": [],
   "source": []
  }
 ],
 "metadata": {
  "interpreter": {
   "hash": "5085d9696cf3b63ae5bb775278ec3e393a5cd86897776366bf95a1bc2610bf80"
  },
  "kernelspec": {
   "display_name": "Python 3.8.10 32-bit",
   "language": "python",
   "name": "python3"
  },
  "language_info": {
   "codemirror_mode": {
    "name": "ipython",
    "version": 3
   },
   "file_extension": ".py",
   "mimetype": "text/x-python",
   "name": "python",
   "nbconvert_exporter": "python",
   "pygments_lexer": "ipython3",
   "version": "3.8.10"
  },
  "orig_nbformat": 4
 },
 "nbformat": 4,
 "nbformat_minor": 2
}
