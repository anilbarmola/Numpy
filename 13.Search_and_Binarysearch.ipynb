{
 "cells": [
  {
   "cell_type": "code",
   "execution_count": null,
   "metadata": {},
   "outputs": [],
   "source": [
    "#Seaching in Array\n",
    "\n",
    "#key words :"
   ]
  },
  {
   "cell_type": "code",
   "execution_count": 8,
   "metadata": {},
   "outputs": [
    {
     "name": "stdout",
     "output_type": "stream",
     "text": [
      "(array([ 3,  9, 10], dtype=int32),)\n"
     ]
    }
   ],
   "source": [
    "import numpy as np  \n",
    "arr=np.array([1,2,3,4,5,6,7,8,9,4,4])\n",
    "x=np.where(arr==4)\n",
    "print(x)"
   ]
  },
  {
   "cell_type": "code",
   "execution_count": 3,
   "metadata": {},
   "outputs": [
    {
     "name": "stdout",
     "output_type": "stream",
     "text": [
      "(array([ 1,  3,  5,  7,  9, 10], dtype=int32),)\n"
     ]
    }
   ],
   "source": [
    "import numpy as np  \n",
    "arr=np.array([1,2,3,4,5,6,7,8,9,4,4])\n",
    "x=np.where(arr%2==0)#Find the indexes where the values are even:\n",
    "print(x)"
   ]
  },
  {
   "cell_type": "code",
   "execution_count": 4,
   "metadata": {},
   "outputs": [
    {
     "name": "stdout",
     "output_type": "stream",
     "text": [
      "(array([0, 2, 4, 6, 8], dtype=int32),)\n"
     ]
    }
   ],
   "source": [
    "import numpy as np  \n",
    "arr=np.array([1,2,3,4,5,6,7,8,9,4,4])\n",
    "x=np.where(arr%2==1)#Find the indexes where the values are odd:\n",
    "print(x)"
   ]
  },
  {
   "cell_type": "code",
   "execution_count": 17,
   "metadata": {},
   "outputs": [
    {
     "name": "stdout",
     "output_type": "stream",
     "text": [
      "5\n",
      "4\n"
     ]
    }
   ],
   "source": [
    "#Search Sorted\n",
    "'''There is a method called searchsorted() which performs a binary search in the array, \n",
    "and returns the index where the specified value would be inserted to maintain the search\n",
    " order.'''\n",
    "import numpy as np  \n",
    "arr=np.array([1,2,3,4,5,6,7,8,9,4,4])\n",
    "x=np.searchsorted(arr,5, side='right')\n",
    "y=np.searchsorted(arr,5, side='left')\n",
    "print(x)\n",
    "print(y)"
   ]
  },
  {
   "cell_type": "code",
   "execution_count": 19,
   "metadata": {},
   "outputs": [
    {
     "name": "stdout",
     "output_type": "stream",
     "text": [
      "[3 1 4]\n"
     ]
    }
   ],
   "source": [
    "import numpy as np  \n",
    "arr=np.array([1,2,3,4,5,6,7,8,9,4,4])\n",
    "x=np.searchsorted(arr,[4,2,5])#find the idexes where the multiple valuse are:\n",
    "print(x)"
   ]
  },
  {
   "cell_type": "code",
   "execution_count": null,
   "metadata": {},
   "outputs": [],
   "source": []
  }
 ],
 "metadata": {
  "interpreter": {
   "hash": "5085d9696cf3b63ae5bb775278ec3e393a5cd86897776366bf95a1bc2610bf80"
  },
  "kernelspec": {
   "display_name": "Python 3.8.10 32-bit",
   "language": "python",
   "name": "python3"
  },
  "language_info": {
   "codemirror_mode": {
    "name": "ipython",
    "version": 3
   },
   "file_extension": ".py",
   "mimetype": "text/x-python",
   "name": "python",
   "nbconvert_exporter": "python",
   "pygments_lexer": "ipython3",
   "version": "3.8.10"
  },
  "orig_nbformat": 4
 },
 "nbformat": 4,
 "nbformat_minor": 2
}
