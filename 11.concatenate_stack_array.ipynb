{
 "cells": [
  {
   "cell_type": "code",
   "execution_count": 13,
   "metadata": {},
   "outputs": [
    {
     "data": {
      "text/plain": [
       "'we can join array useing \\n1.> concatenate key word: join alog with rows\\n2.>stack :join array alog with axis\\n3.>hstack : join array along row\\n4.>dstack : join along with heigh\\n5.>vstack : along with columns\\n'"
      ]
     },
     "execution_count": 13,
     "metadata": {},
     "output_type": "execute_result"
    }
   ],
   "source": [
    "'''we can join array using \n",
    "1.> concatenate key word: join along with rows\n",
    "2.>stack  :  join array alog with axis\n",
    "3.>hstack : join array along row\n",
    "4.>dstack : join along with heigh\n",
    "5.>vstack : along with columns\n",
    "'''"
   ]
  },
  {
   "cell_type": "code",
   "execution_count": 7,
   "metadata": {},
   "outputs": [
    {
     "name": "stdout",
     "output_type": "stream",
     "text": [
      "[[ 1  2  3  5]\n",
      " [20 50 46 80]\n",
      " [ 4  5  6  7]\n",
      " [10 20 30 40]]\n"
     ]
    }
   ],
   "source": [
    "import numpy as np\n",
    "#**********Joining Array with concatenate key word*******\n",
    "arr1=np.array([[1,2,3,5],[20,50,46,80]])\n",
    "arr2=np.array([[4,5,6,7],[10,20,30,40]])\n",
    "arr=np.concatenate((arr1,arr2))\n",
    "print(arr)\n"
   ]
  },
  {
   "cell_type": "code",
   "execution_count": 9,
   "metadata": {},
   "outputs": [
    {
     "name": "stdout",
     "output_type": "stream",
     "text": [
      "[[1 2 3 8]\n",
      " [4 5 6 7]]\n"
     ]
    }
   ],
   "source": [
    "import numpy as np\n",
    "#**********Joining Array with stak key work******* \n",
    "#*******stack join the arry along with axis*****both array have to same num of element\n",
    "arr1=np.array([1,2,3,8])\n",
    "arr2=np.array([4,5,6,7])\n",
    "arr=np.stack((arr1,arr2))\n",
    "print(arr)\n"
   ]
  },
  {
   "cell_type": "code",
   "execution_count": 11,
   "metadata": {},
   "outputs": [
    {
     "name": "stdout",
     "output_type": "stream",
     "text": [
      "[[[1 4]\n",
      "  [2 5]\n",
      "  [3 6]\n",
      "  [8 7]]]\n"
     ]
    }
   ],
   "source": [
    "import numpy as np\n",
    "#**********Joining Array with dtack*******\n",
    "#****dstack join arry in collumn*****\n",
    "arr1=np.array([1,2,3,8])\n",
    "arr2=np.array([4,5,6,7])\n",
    "arr=np.dstack((arr1,arr2))\n",
    "print(arr)\n"
   ]
  },
  {
   "cell_type": "code",
   "execution_count": null,
   "metadata": {},
   "outputs": [],
   "source": []
  }
 ],
 "metadata": {
  "interpreter": {
   "hash": "5085d9696cf3b63ae5bb775278ec3e393a5cd86897776366bf95a1bc2610bf80"
  },
  "kernelspec": {
   "display_name": "Python 3.8.10 32-bit",
   "language": "python",
   "name": "python3"
  },
  "language_info": {
   "codemirror_mode": {
    "name": "ipython",
    "version": 3
   },
   "file_extension": ".py",
   "mimetype": "text/x-python",
   "name": "python",
   "nbconvert_exporter": "python",
   "pygments_lexer": "ipython3",
   "version": "3.8.10"
  },
  "orig_nbformat": 4
 },
 "nbformat": 4,
 "nbformat_minor": 2
}
