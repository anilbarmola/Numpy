{
 "cells": [
  {
   "cell_type": "code",
   "execution_count": 2,
   "metadata": {},
   "outputs": [
    {
     "name": "stdout",
     "output_type": "stream",
     "text": [
      "sum : [30 41 52 63 74 85]\n",
      "[-10  -1   8  17  26  35]\n",
      "[ 200  420  660  920 1200 1500]\n",
      "[0.5        0.95238095 1.36363636 1.73913043 2.08333333 2.4       ]\n",
      "[1661992960          0 1749024768          0 1090519040          0]\n",
      "[10 20  8 17  2 10]\n",
      "[10 20  8 17  2 10]\n"
     ]
    }
   ],
   "source": [
    "#Arthimatic Function with Numpy function\n",
    "import numpy as np\n",
    "arr1 = np.array([10, 20, 30, 40, 50, 60])\n",
    "arr2 = np.array([20, 21, 22, 23, 24, 25])\n",
    "sum=np.add(arr1,arr2)\n",
    "subtract=np.subtract(arr1,arr2)\n",
    "multily=np.multiply(arr1,arr2)\n",
    "divide=np.divide(arr1,arr2)\n",
    "power=np.power(arr1,arr2)\n",
    "mod=np.mod(arr1,arr2)\n",
    "reminder=np.remainder(arr1,arr2)\n",
    "print(\"sum :\",sum)\n",
    "print(subtract)\n",
    "print(multily)\n",
    "print(divide)\n",
    "print(power)\n",
    "print(mod)\n",
    "print(reminder)\n"
   ]
  },
  {
   "cell_type": "code",
   "execution_count": null,
   "metadata": {},
   "outputs": [],
   "source": []
  }
 ],
 "metadata": {
  "interpreter": {
   "hash": "5085d9696cf3b63ae5bb775278ec3e393a5cd86897776366bf95a1bc2610bf80"
  },
  "kernelspec": {
   "display_name": "Python 3.8.10 32-bit",
   "language": "python",
   "name": "python3"
  },
  "language_info": {
   "codemirror_mode": {
    "name": "ipython",
    "version": 3
   },
   "file_extension": ".py",
   "mimetype": "text/x-python",
   "name": "python",
   "nbconvert_exporter": "python",
   "pygments_lexer": "ipython3",
   "version": "3.8.10"
  },
  "orig_nbformat": 4
 },
 "nbformat": 4,
 "nbformat_minor": 2
}
