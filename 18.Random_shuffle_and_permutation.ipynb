{
 "cells": [
  {
   "cell_type": "code",
   "execution_count": 2,
   "metadata": {},
   "outputs": [
    {
     "name": "stdout",
     "output_type": "stream",
     "text": [
      "[3 4 9 1 6 5 7]\n"
     ]
    }
   ],
   "source": [
    "# shuffling Arrays\n",
    "#SUFFLE() method change to the order of  oringal array\n",
    "import numpy as np\n",
    "from numpy import random\n",
    "arr=np.array([1,5,9,7,3,6,4])\n",
    "random.shuffle(arr)\n",
    "print(arr)"
   ]
  },
  {
   "cell_type": "code",
   "execution_count": 1,
   "metadata": {},
   "outputs": [
    {
     "name": "stdout",
     "output_type": "stream",
     "text": [
      "[5 6 3 7 1 4 9]\n",
      "Original array : [1 5 9 7 3 6 4]\n"
     ]
    }
   ],
   "source": [
    "#Permutation of Arrays\n",
    "#permutation re-arrange the array but orignial array remain un-changed/\n",
    "import numpy as np\n",
    "from numpy import random\n",
    "arr=np.array([1,5,9,7,3,6,4])\n",
    "print(random.permutation(arr))\n",
    "print(\"Original array :\", arr)\n"
   ]
  },
  {
   "cell_type": "code",
   "execution_count": null,
   "metadata": {},
   "outputs": [],
   "source": []
  }
 ],
 "metadata": {
  "interpreter": {
   "hash": "5085d9696cf3b63ae5bb775278ec3e393a5cd86897776366bf95a1bc2610bf80"
  },
  "kernelspec": {
   "display_name": "Python 3.8.10 32-bit",
   "language": "python",
   "name": "python3"
  },
  "language_info": {
   "codemirror_mode": {
    "name": "ipython",
    "version": 3
   },
   "file_extension": ".py",
   "mimetype": "text/x-python",
   "name": "python",
   "nbconvert_exporter": "python",
   "pygments_lexer": "ipython3",
   "version": "3.8.10"
  },
  "orig_nbformat": 4
 },
 "nbformat": 4,
 "nbformat_minor": 2
}
