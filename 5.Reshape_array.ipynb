{
 "cells": [
  {
   "cell_type": "code",
   "execution_count": 1,
   "metadata": {},
   "outputs": [
    {
     "name": "stdout",
     "output_type": "stream",
     "text": [
      "This is one dimensional Array [9 8 2 9 1 7 3 4 4 4 4 5]\n",
      "[[9 8 2 9 1 7]\n",
      " [3 4 4 4 4 5]]\n",
      "Converting one dimensional Array into two Dimension\n",
      "[[9 8]\n",
      " [2 9]\n",
      " [1 7]\n",
      " [3 4]\n",
      " [4 4]\n",
      " [4 5]]\n"
     ]
    }
   ],
   "source": [
    "import numpy as np\n",
    "#Reshaping of Array\n",
    "#convert one dimestion arry into 2 or three dimension\n",
    "#make a array of number b/w 1 to 10 and array have 12 element\n",
    "arr=np.random.randint(1,10,12)\n",
    "print(\"This is one dimensional Array\", arr)\n",
    "arr1=arr.reshape(2,6)#converted one dim arr into 2 dim arr of 2*6 matrix\n",
    "print(arr1)\n",
    "print(\"Converting one dimensional Array into two Dimension\")\n",
    "arr2=arr.reshape(6,-1)#-1 means it will chose next term for dimenstion\n",
    "print(arr2)\n"
   ]
  },
  {
   "cell_type": "code",
   "execution_count": null,
   "metadata": {},
   "outputs": [],
   "source": []
  }
 ],
 "metadata": {
  "interpreter": {
   "hash": "5085d9696cf3b63ae5bb775278ec3e393a5cd86897776366bf95a1bc2610bf80"
  },
  "kernelspec": {
   "display_name": "Python 3.8.10 32-bit",
   "language": "python",
   "name": "python3"
  },
  "language_info": {
   "codemirror_mode": {
    "name": "ipython",
    "version": 3
   },
   "file_extension": ".py",
   "mimetype": "text/x-python",
   "name": "python",
   "nbconvert_exporter": "python",
   "pygments_lexer": "ipython3",
   "version": "3.8.10"
  },
  "orig_nbformat": 4
 },
 "nbformat": 4,
 "nbformat_minor": 2
}
