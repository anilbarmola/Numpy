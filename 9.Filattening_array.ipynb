{
 "cells": [
  {
   "cell_type": "code",
   "execution_count": 2,
   "metadata": {},
   "outputs": [
    {
     "name": "stdout",
     "output_type": "stream",
     "text": [
      "(2, 3)\n"
     ]
    }
   ],
   "source": [
    "import numpy as np  \n",
    "#********Check shape of array*************\n",
    "arr=np.array([[1,2,3],[4,5,6]])\n",
    "print(arr.shape)\n"
   ]
  },
  {
   "cell_type": "code",
   "execution_count": 5,
   "metadata": {},
   "outputs": [
    {
     "name": "stdout",
     "output_type": "stream",
     "text": [
      "Original shape is:  (4, 3)\n",
      "[[ 7  8  9  4]\n",
      " [ 5  6  1  2]\n",
      " [ 3 10 11 12]]\n"
     ]
    }
   ],
   "source": [
    "arr1=np.array([[7,8,9],[4,5,6],[1,2,3],[10,11,12]])\n",
    "\n",
    "#*****Reshape array***********\n",
    "print(\"Original shape is: \",arr1.shape)\n",
    "print(arr1.reshape(3,4))"
   ]
  },
  {
   "cell_type": "code",
   "execution_count": 4,
   "metadata": {},
   "outputs": [
    {
     "name": "stdout",
     "output_type": "stream",
     "text": [
      "[[ 7  8]\n",
      " [ 9  4]\n",
      " [ 5  6]\n",
      " [ 1  2]\n",
      " [ 3 10]\n",
      " [11 12]]\n",
      "Reshape in other way\n",
      "[[ 7  8  9]\n",
      " [ 4  5  6]\n",
      " [ 1  2  3]\n",
      " [10 11 12]]\n"
     ]
    }
   ],
   "source": [
    "#***************Unkhown Dimension**********\n",
    "import numpy as np\n",
    "arr1=np.array([[7,8,9],[4,5,6],[1,2,3],[10,11,12]])\n",
    "print(arr1.reshape(-1,2))#-1 means first dimension is not fixed\n",
    "print(\"Reshape in other way\")\n",
    "print(arr1.reshape(4,-1))"
   ]
  },
  {
   "cell_type": "code",
   "execution_count": 5,
   "metadata": {},
   "outputs": [
    {
     "name": "stdout",
     "output_type": "stream",
     "text": [
      "[ 7  8  9  4  5  6  1  2  3 10 11 12]\n"
     ]
    }
   ],
   "source": [
    "#Flattening the arrays\n",
    "#Flattening array means converting a multidimensional array into a 1D array.\n",
    "import numpy as np\n",
    "arr1=np.array([[7,8,9],[4,5,6],[1,2,3],[10,11,12]])\n",
    "print(arr1.reshape(-1))"
   ]
  },
  {
   "cell_type": "code",
   "execution_count": null,
   "metadata": {},
   "outputs": [],
   "source": []
  }
 ],
 "metadata": {
  "interpreter": {
   "hash": "5085d9696cf3b63ae5bb775278ec3e393a5cd86897776366bf95a1bc2610bf80"
  },
  "kernelspec": {
   "display_name": "Python 3.8.10 32-bit",
   "language": "python",
   "name": "python3"
  },
  "language_info": {
   "codemirror_mode": {
    "name": "ipython",
    "version": 3
   },
   "file_extension": ".py",
   "mimetype": "text/x-python",
   "name": "python",
   "nbconvert_exporter": "python",
   "pygments_lexer": "ipython3",
   "version": "3.10.2"
  },
  "orig_nbformat": 4
 },
 "nbformat": 4,
 "nbformat_minor": 2
}
