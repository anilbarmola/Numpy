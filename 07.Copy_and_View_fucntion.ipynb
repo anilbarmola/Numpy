{
 "cells": [
  {
   "cell_type": "code",
   "execution_count": 2,
   "metadata": {},
   "outputs": [
    {
     "name": "stdout",
     "output_type": "stream",
     "text": [
      "Copy array print [1 2 3 4 5]\n",
      "Orignal array with update [98  2  3  4  5]\n"
     ]
    }
   ],
   "source": [
    "import numpy as np  \n",
    "#******COPY AND VIEW **********\n",
    "arr=np.array([1,2,3,4,5])\n",
    "x=arr.copy()#this will copy the above array\n",
    "arr[0]=98\n",
    "\n",
    "#any change make to the original will not affact to the copy array\n",
    "print(\"Copy array print\",x)\n",
    "print(\"Orignal array with update\",arr)"
   ]
  },
  {
   "cell_type": "code",
   "execution_count": 9,
   "metadata": {},
   "outputs": [
    {
     "name": "stdout",
     "output_type": "stream",
     "text": [
      "[ 87   2 123   4   5]\n",
      "[ 87   2 123   4   5]\n"
     ]
    }
   ],
   "source": [
    "import numpy as np\n",
    "arr=np.array([1,2,3,4,5])\n",
    "x=arr.view()\n",
    "arr[0]=87#any change make to original array will affect the view\n",
    "x[2]=123# any change make to the view will affect the original array\n",
    "print(arr)\n",
    "print(x)"
   ]
  }
 ],
 "metadata": {
  "interpreter": {
   "hash": "5085d9696cf3b63ae5bb775278ec3e393a5cd86897776366bf95a1bc2610bf80"
  },
  "kernelspec": {
   "display_name": "Python 3.8.10 32-bit",
   "language": "python",
   "name": "python3"
  },
  "language_info": {
   "codemirror_mode": {
    "name": "ipython",
    "version": 3
   },
   "file_extension": ".py",
   "mimetype": "text/x-python",
   "name": "python",
   "nbconvert_exporter": "python",
   "pygments_lexer": "ipython3",
   "version": "3.10.2"
  },
  "orig_nbformat": 4
 },
 "nbformat": 4,
 "nbformat_minor": 2
}
