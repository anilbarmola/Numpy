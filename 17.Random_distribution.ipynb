{
 "cells": [
  {
   "cell_type": "code",
   "execution_count": 1,
   "metadata": {},
   "outputs": [
    {
     "name": "stdout",
     "output_type": "stream",
     "text": [
      "[4 4 4 3 3 2 2 3 3 3 3 3 3 4 3 4 4 2 3 2]\n"
     ]
    }
   ],
   "source": [
    "#Random Data Distribution\n",
    "\n",
    "from numpy import random\n",
    "x=random.choice([1,2,3,4,5], p=[0.1,0.2,0.3,0.4,0], size=20)\n",
    "print(x)"
   ]
  },
  {
   "cell_type": "code",
   "execution_count": 8,
   "metadata": {},
   "outputs": [
    {
     "name": "stdout",
     "output_type": "stream",
     "text": [
      "[[4 3 4 3 4]\n",
      " [3 2 4 4 3]\n",
      " [1 4 2 3 2]]\n"
     ]
    }
   ],
   "source": [
    "from numpy import random\n",
    "x=random.choice([1,2,3,4,5], p=[0.1,0.2,0.3,0.4,0], size=(3,5))\n",
    "print(x)"
   ]
  },
  {
   "cell_type": "code",
   "execution_count": null,
   "metadata": {},
   "outputs": [],
   "source": []
  }
 ],
 "metadata": {
  "interpreter": {
   "hash": "5085d9696cf3b63ae5bb775278ec3e393a5cd86897776366bf95a1bc2610bf80"
  },
  "kernelspec": {
   "display_name": "Python 3.8.10 32-bit",
   "language": "python",
   "name": "python3"
  },
  "language_info": {
   "codemirror_mode": {
    "name": "ipython",
    "version": 3
   },
   "file_extension": ".py",
   "mimetype": "text/x-python",
   "name": "python",
   "nbconvert_exporter": "python",
   "pygments_lexer": "ipython3",
   "version": "3.8.10"
  },
  "orig_nbformat": 4
 },
 "nbformat": 4,
 "nbformat_minor": 2
}
